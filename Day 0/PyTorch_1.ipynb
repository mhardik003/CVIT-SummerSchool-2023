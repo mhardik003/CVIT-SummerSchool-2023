{
  "nbformat": 4,
  "nbformat_minor": 0,
  "metadata": {
    "colab": {
      "provenance": []
    },
    "kernelspec": {
      "name": "python3",
      "display_name": "Python 3"
    },
    "language_info": {
      "name": "python"
    }
  },
  "cells": [
    {
      "cell_type": "markdown",
      "source": [
        "## What is PyTorch?\n",
        "\n",
        "PyTorch is a system for executing dynamic computational graphs over Tensor objects that behave similarly as NumPy `ndarray`. It comes with a powerful **automatic differentiation engine** that removes the need for manual back-propagation.\n",
        "\n",
        "## Why?\n",
        "\n",
        "* Our code will now run on GPUs! Much faster training. When using a framework like PyTorch or TensorFlow you can harness the power of the GPU for your own custom neural network architectures without having to write CUDA code directly (which is beyond the scope of this class)."
      ],
      "metadata": {
        "id": "GZXrGAQzz2zx"
      }
    },
    {
      "cell_type": "markdown",
      "source": [
        "In PyTorch, the computational graph is built up as you execute the code, as opposed to TensorFlow where you define your graph and then run it.\n",
        "In PyTorch, you create your graph by running it."
      ],
      "metadata": {
        "id": "c590kQIV0MOa"
      }
    },
    {
      "cell_type": "markdown",
      "source": [
        "# Part 1: Tensors\n",
        "\n",
        "Tensors are a specialized data structure that are very similar to arrays and matrices. In PyTorch, we use tensors to encode the inputs and outputs of a model, as well as the model’s parameters.\n",
        "\n",
        "Tensors are similar to NumPy’s ndarrays, with the addition being that Tensors can also be used on a GPU to accelerate computing. In fact, tensors and NumPy arrays can often share the same underlying memory, eliminating the need to copy data (see [Bridge with NumPy](https://pytorch.org/tutorials/beginner/blitz/tensor_tutorial.html#bridge-to-np-label)). Tensors are also optimized for automatic differentiation (we’ll see more about that later in the Autograd section). If you’re familiar with ndarrays, you’ll be right at home with the Tensor API."
      ],
      "metadata": {
        "id": "_W-Dib2z0ToD"
      }
    },
    {
      "cell_type": "code",
      "execution_count": null,
      "metadata": {
        "id": "dwySLxqHjBlq"
      },
      "outputs": [],
      "source": [
        "import torch\n",
        "import numpy as np"
      ]
    },
    {
      "cell_type": "markdown",
      "source": [
        "## Initializing a Tensor\n",
        "\n",
        "Tensors can be initialized in various ways. Lets take a look at the four popular ways:"
      ],
      "metadata": {
        "id": "hDCOGc3k0iOE"
      }
    },
    {
      "cell_type": "markdown",
      "source": [
        "### 1. With random or constant values:\n",
        "\n",
        "### 1a. Construct a matrix filled zeros and of dtype `long`:"
      ],
      "metadata": {
        "id": "BlUZ0lYh0pF3"
      }
    },
    {
      "cell_type": "code",
      "source": [
        "x = torch.zeros(5, 3, dtype = torch.long) # or torch.zeros((5, 3), dtype = torch.long)\n",
        "print(x)\n",
        "print(type(x))"
      ],
      "metadata": {
        "colab": {
          "base_uri": "https://localhost:8080/"
        },
        "id": "PusS9vrn0et_",
        "outputId": "ea1d3ed4-7cae-4b7e-bff1-6590779f65d4"
      },
      "execution_count": null,
      "outputs": [
        {
          "output_type": "stream",
          "name": "stdout",
          "text": [
            "tensor([[0, 0, 0],\n",
            "        [0, 0, 0],\n",
            "        [0, 0, 0],\n",
            "        [0, 0, 0],\n",
            "        [0, 0, 0]])\n",
            "<class 'torch.Tensor'>\n"
          ]
        }
      ]
    },
    {
      "cell_type": "markdown",
      "source": [
        "`torch.zeros` returns a tensor filled with the scalar value 0, with the shape defined by the variable argument `size`.\n",
        "\n",
        "You can get the shape of the tensor using `x.size()` or `x.shape`.\n",
        "\n",
        "**Note:** `torch.Size` is in fact a tuple, so it supports all tuple operations."
      ],
      "metadata": {
        "id": "H-Kcm8co1Dnc"
      }
    },
    {
      "cell_type": "code",
      "source": [
        "print(x.size())\n",
        "print(x.shape)\n",
        "print(type(x.shape))\n",
        "a, b = x.shape\n",
        "print(a, b)"
      ],
      "metadata": {
        "colab": {
          "base_uri": "https://localhost:8080/"
        },
        "id": "J9DPFsPL0zAY",
        "outputId": "9c5a5850-9c3e-4520-8ace-4508a6417415"
      },
      "execution_count": null,
      "outputs": [
        {
          "output_type": "stream",
          "name": "stdout",
          "text": [
            "torch.Size([5, 3])\n",
            "torch.Size([5, 3])\n",
            "<class 'torch.Size'>\n",
            "5 3\n"
          ]
        }
      ]
    },
    {
      "cell_type": "markdown",
      "source": [
        "### 1b. Uninitialized matrix\n",
        "\n",
        "An uninitialized matrix is declared, but does not contain definite known values before it is used. When an uninitialized matrix is created, whatever values were in the allocated memory at the time will appear as the initial values.\n",
        "\n",
        "Construct a 5x3 matrix, uninitialized:"
      ],
      "metadata": {
        "id": "IfzOe5CV2BgA"
      }
    },
    {
      "cell_type": "code",
      "source": [
        "x = torch.empty(5, 3)\n",
        "print(x)\n",
        "print(x.shape)"
      ],
      "metadata": {
        "colab": {
          "base_uri": "https://localhost:8080/"
        },
        "id": "xFxEXz_F1uCV",
        "outputId": "8eb9288b-d2e3-4dab-986c-907bd63da98e"
      },
      "execution_count": null,
      "outputs": [
        {
          "output_type": "stream",
          "name": "stdout",
          "text": [
            "tensor([[0.0000e+00, 3.1206e-03, 7.7052e+31],\n",
            "        [7.2148e+22, 1.5766e-19, 1.0256e-08],\n",
            "        [1.0501e-05, 3.1643e+12, 2.7096e-09],\n",
            "        [1.6902e-04, 6.8250e-07, 1.3034e+16],\n",
            "        [2.1707e-18, 7.0952e+22, 1.7748e+28]])\n",
            "torch.Size([5, 3])\n"
          ]
        }
      ]
    },
    {
      "cell_type": "markdown",
      "source": [
        "### 1c. Construct a randomly initialized matrix:"
      ],
      "metadata": {
        "id": "OJaWiRzO2OFq"
      }
    },
    {
      "cell_type": "code",
      "source": [
        "x = torch.rand(5, 3) # or x = torch.rand((5, 3))\n",
        "print(x)\n",
        "print(x.shape)"
      ],
      "metadata": {
        "colab": {
          "base_uri": "https://localhost:8080/"
        },
        "id": "qTUsw7r42KFW",
        "outputId": "4c9055a7-c018-4c82-db1f-cad717f6d50a"
      },
      "execution_count": null,
      "outputs": [
        {
          "output_type": "stream",
          "name": "stdout",
          "text": [
            "tensor([[0.7147, 0.6795, 0.6246],\n",
            "        [0.8552, 0.0880, 0.0167],\n",
            "        [0.3461, 0.8256, 0.6554],\n",
            "        [0.1904, 0.2104, 0.5596],\n",
            "        [0.1965, 0.6284, 0.2608]])\n",
            "torch.Size([5, 3])\n"
          ]
        }
      ]
    },
    {
      "cell_type": "markdown",
      "source": [
        "### 1d. Identity Matrix"
      ],
      "metadata": {
        "id": "Gs_jtC-C2gPN"
      }
    },
    {
      "cell_type": "code",
      "source": [
        "x = torch.eye(5)\n",
        "print(x)"
      ],
      "metadata": {
        "colab": {
          "base_uri": "https://localhost:8080/"
        },
        "id": "xUVVaOM52WC0",
        "outputId": "f75f7aa4-f7c4-4d4a-898d-6fa0a0649cac"
      },
      "execution_count": null,
      "outputs": [
        {
          "output_type": "stream",
          "name": "stdout",
          "text": [
            "tensor([[1., 0., 0., 0., 0.],\n",
            "        [0., 1., 0., 0., 0.],\n",
            "        [0., 0., 1., 0., 0.],\n",
            "        [0., 0., 0., 1., 0.],\n",
            "        [0., 0., 0., 0., 1.]])\n"
          ]
        }
      ]
    },
    {
      "cell_type": "markdown",
      "source": [
        "These are some of the most poular ways of creating a tensor with random or constant values\n",
        "\n",
        "### 2. Construct a tensor directly from data:\n",
        "\n",
        "`torch.tensor(data, dtype=None, device=None, requires_grad=False pin_memory=False)` → Tensor\n",
        "\n",
        "Constructs a tensor with `data`."
      ],
      "metadata": {
        "id": "B9kol4Fa2oFx"
      }
    },
    {
      "cell_type": "code",
      "source": [
        "x = torch.tensor([[1, 2, 3], [4, 5, 6]])\n",
        "print(x)\n",
        "print(x.size())\n",
        "print(type(x))"
      ],
      "metadata": {
        "colab": {
          "base_uri": "https://localhost:8080/"
        },
        "id": "Ab1kY9iU2kN7",
        "outputId": "b0798c99-bf8b-4713-90ed-299961c64382"
      },
      "execution_count": null,
      "outputs": [
        {
          "output_type": "stream",
          "name": "stdout",
          "text": [
            "tensor([[1, 2, 3],\n",
            "        [4, 5, 6]])\n",
            "torch.Size([2, 3])\n",
            "<class 'torch.Tensor'>\n"
          ]
        }
      ]
    },
    {
      "cell_type": "markdown",
      "source": [
        "### 3. Create a tensor based on an existing tensor.\n",
        "\n",
        "These methods will reuse properties of the input tensor, e.g. `dtype`, unless new values are provided by user"
      ],
      "metadata": {
        "id": "_aybgJOK281H"
      }
    },
    {
      "cell_type": "code",
      "source": [
        "x = x.new_ones(5, 3, dtype=torch.double)      # new_* methods take in sizes\n",
        "print(x)\n",
        "\n",
        "x = torch.randn_like(x, dtype=torch.float)    # override dtype!\n",
        "print(x)                                      # result has the same size\n",
        "\n",
        "# rand_like will inherit all the attributes from its argument's tensor.\n",
        "# This is true in general for any *_like() methods.\n",
        "# Some of the other useful methods are torch.ones_like() and torch.zeros_like().\n",
        "\n",
        "x_ones = torch.ones_like(x) # retains the properties of x\n",
        "print(f\"Ones Tensor: \\n {x_ones} \\n\")"
      ],
      "metadata": {
        "colab": {
          "base_uri": "https://localhost:8080/"
        },
        "id": "54KHgCYd26lV",
        "outputId": "4bee42a5-367b-4298-e5e8-0c6309e50468"
      },
      "execution_count": null,
      "outputs": [
        {
          "output_type": "stream",
          "name": "stdout",
          "text": [
            "tensor([[1., 1., 1.],\n",
            "        [1., 1., 1.],\n",
            "        [1., 1., 1.],\n",
            "        [1., 1., 1.],\n",
            "        [1., 1., 1.]], dtype=torch.float64)\n",
            "tensor([[-1.1377, -0.0609,  0.4641],\n",
            "        [-0.3982, -0.7203, -0.8960],\n",
            "        [-0.1035, -0.5232, -0.8591],\n",
            "        [ 0.9315, -0.8753,  1.1037],\n",
            "        [-0.1426, -0.3866,  0.5851]])\n",
            "Ones Tensor: \n",
            " tensor([[1., 1., 1.],\n",
            "        [1., 1., 1.],\n",
            "        [1., 1., 1.],\n",
            "        [1., 1., 1.],\n",
            "        [1., 1., 1.]]) \n",
            "\n"
          ]
        }
      ]
    },
    {
      "cell_type": "markdown",
      "source": [
        "### 4. From a NumPy array\n",
        "\n",
        "Tensors can be created from NumPy arrays (and vice versa - see [Bridge with NumPy](https://pytorch.org/tutorials/beginner/blitz/tensor_tutorial.html#bridge-to-np-label))."
      ],
      "metadata": {
        "id": "e6sEECwD3K3f"
      }
    },
    {
      "cell_type": "code",
      "source": [
        "data = [[1, 2],[3, 4]]\n",
        "\n",
        "np_array = np.array(data)\n",
        "\n",
        "x_np = torch.from_numpy(np_array)\n",
        "print(x_np)\n",
        "print(type(x_np))"
      ],
      "metadata": {
        "colab": {
          "base_uri": "https://localhost:8080/"
        },
        "id": "7Utw3yMT3GsT",
        "outputId": "73a2c291-8671-4783-c1a2-75885a9153fd"
      },
      "execution_count": null,
      "outputs": [
        {
          "output_type": "stream",
          "name": "stdout",
          "text": [
            "tensor([[1, 2],\n",
            "        [3, 4]])\n",
            "<class 'torch.Tensor'>\n"
          ]
        }
      ]
    },
    {
      "cell_type": "markdown",
      "source": [
        "### Attributes of a Tensor\n",
        "\n",
        "The important attributes of a Tensor are their shape, datatype, and the device on which they are stored."
      ],
      "metadata": {
        "id": "hCBx2gAR3Uvj"
      }
    },
    {
      "cell_type": "code",
      "source": [
        "tensor = torch.rand(3,4)\n",
        "\n",
        "print(f\"Shape of tensor: {tensor.shape}\")\n",
        "print(f\"Datatype of tensor: {tensor.dtype}\")\n",
        "print(f\"Device tensor is stored on: {tensor.device}\")"
      ],
      "metadata": {
        "colab": {
          "base_uri": "https://localhost:8080/"
        },
        "id": "xY55Pv233RGa",
        "outputId": "285b7768-1d0a-4afb-b217-2fb68adbb117"
      },
      "execution_count": null,
      "outputs": [
        {
          "output_type": "stream",
          "name": "stdout",
          "text": [
            "Shape of tensor: torch.Size([3, 4])\n",
            "Datatype of tensor: torch.float32\n",
            "Device tensor is stored on: cpu\n"
          ]
        }
      ]
    },
    {
      "cell_type": "markdown",
      "source": [
        "PyTorch supports several different data types for tensors, each of which can be specified using the `dtype` argument when creating a tensor. Here are some of the most commonly used data types:\n",
        "\n",
        "* `torch.float32`: 32-bit floating-point number (float)\n",
        "* `torch.float64`: 64-bit floating-point number (double)\n",
        "* `torch.float16`: 16-bit floating-point number (half-precision)\n",
        "* `torch.int8`: 8-bit integer (signed)\n",
        "* `torch.uint8`: 8-bit integer (unsigned)\n",
        "* `torch.int16`: 16-bit integer (signed)\n",
        "* `torch.int32`: 32-bit integer (signed)\n",
        "* `torch.int64`: 64-bit integer (signed)\n",
        "* `torch.bool`: boolean (True or False)"
      ],
      "metadata": {
        "id": "HBgsUh9u3o1E"
      }
    },
    {
      "cell_type": "code",
      "source": [
        "a = torch.tensor([1, 2, 3])\n",
        "print(a.dtype)\n",
        "\n",
        "a = torch.tensor([1.1, 2.1111, 3.2])\n",
        "print(a.dtype)\n",
        "\n",
        "a = torch.tensor([1, 2, 3], dtype=torch.float16)\n",
        "print(a.dtype)\n",
        "\n",
        "a = torch.tensor([1, 2, 3], dtype=torch.float64)\n",
        "print(a.dtype)\n",
        "\n",
        "a = torch.tensor([1, 2, 3], dtype=torch.int16)\n",
        "print(a.dtype)\n",
        "\n",
        "a = torch.tensor([1, 2, 3], dtype=torch.int32)\n",
        "print(a.dtype)\n",
        "\n",
        "a = torch.tensor([1, 2, 3], dtype=torch.uint8)\n",
        "print(a.dtype)\n",
        "\n",
        "a = torch.tensor([1, 1, 0], dtype=torch.bool)\n",
        "print(a.dtype)"
      ],
      "metadata": {
        "colab": {
          "base_uri": "https://localhost:8080/"
        },
        "id": "dDkSkyal3d3t",
        "outputId": "cd756203-756e-49e9-b797-9c8f5d3d6968"
      },
      "execution_count": null,
      "outputs": [
        {
          "output_type": "stream",
          "name": "stdout",
          "text": [
            "torch.int64\n",
            "torch.float32\n",
            "torch.float16\n",
            "torch.float64\n",
            "torch.int16\n",
            "torch.int32\n",
            "torch.uint8\n",
            "torch.bool\n"
          ]
        }
      ]
    },
    {
      "cell_type": "markdown",
      "source": [
        "Till now we have looked at what a Tensor is in PyTorch, its important attributes and the different ways to create it."
      ],
      "metadata": {
        "id": "I6KKkYFo4Lb2"
      }
    },
    {
      "cell_type": "markdown",
      "source": [
        "### Operations on Tensors\n",
        "\n",
        "Now let us look at various operations that can be done on a Tensor.\n",
        "\n",
        "### 1. Addition"
      ],
      "metadata": {
        "id": "7mGzA8Ji4US7"
      }
    },
    {
      "cell_type": "code",
      "source": [
        "x = torch.ones(5, 3)\n",
        "y = torch.ones(5, 3)\n",
        "\n",
        "print(x + y) # 1st way\n",
        "\n",
        "print(torch.add(x, y)) # 2nd way\n",
        "\n",
        "result = torch.empty(5, 3) # 3rd way. Can provide an output tensor to store results\n",
        "torch.add(x, y, out=result)\n",
        "print(result)"
      ],
      "metadata": {
        "colab": {
          "base_uri": "https://localhost:8080/"
        },
        "id": "FujdDr7b35NZ",
        "outputId": "05169a00-3362-4045-adc0-f39873fd85ca"
      },
      "execution_count": null,
      "outputs": [
        {
          "output_type": "stream",
          "name": "stdout",
          "text": [
            "tensor([[2., 2., 2.],\n",
            "        [2., 2., 2.],\n",
            "        [2., 2., 2.],\n",
            "        [2., 2., 2.],\n",
            "        [2., 2., 2.]])\n",
            "tensor([[2., 2., 2.],\n",
            "        [2., 2., 2.],\n",
            "        [2., 2., 2.],\n",
            "        [2., 2., 2.],\n",
            "        [2., 2., 2.]])\n",
            "tensor([[2., 2., 2.],\n",
            "        [2., 2., 2.],\n",
            "        [2., 2., 2.],\n",
            "        [2., 2., 2.],\n",
            "        [2., 2., 2.]])\n"
          ]
        }
      ]
    },
    {
      "cell_type": "code",
      "source": [
        "# 4th way. Adds 1 to y\n",
        "print(y.add(1)) # also an example of \"broadcasting\" in PyTorch\n",
        "\n",
        "# 5th way\n",
        "y.add_(x) # Adds in-place\n",
        "print(y)"
      ],
      "metadata": {
        "colab": {
          "base_uri": "https://localhost:8080/"
        },
        "id": "kIdj5wlH5CgI",
        "outputId": "bc0d3d00-9894-4f3a-92fb-91254436de63"
      },
      "execution_count": null,
      "outputs": [
        {
          "output_type": "stream",
          "name": "stdout",
          "text": [
            "tensor([[2., 2., 2.],\n",
            "        [2., 2., 2.],\n",
            "        [2., 2., 2.],\n",
            "        [2., 2., 2.],\n",
            "        [2., 2., 2.]])\n",
            "tensor([[2., 2., 2.],\n",
            "        [2., 2., 2.],\n",
            "        [2., 2., 2.],\n",
            "        [2., 2., 2.],\n",
            "        [2., 2., 2.]])\n"
          ]
        }
      ]
    },
    {
      "cell_type": "markdown",
      "source": [
        "**Note:** Any operation that mutates a tensor in-place is post-fixed with an `_`. For example:` x.copy_(y), x.t_(),` will change `x`."
      ],
      "metadata": {
        "id": "4oruZjrZ5XDs"
      }
    },
    {
      "cell_type": "markdown",
      "source": [
        "### 2. Matrix Multiplication, Transpose and Inverse is similar to NumPy with slight variations."
      ],
      "metadata": {
        "id": "RZMFISSG5bfx"
      }
    },
    {
      "cell_type": "code",
      "source": [
        "m1 = torch.randn((5, 3))\n",
        "m2 = torch.randn((5, 3))\n",
        "print(m2.t() @ m1) # In NumPy this is equivalent to print(m2.T @ m1)\n",
        "print(torch.inverse(m2.t() @ m1)) # In NumPy this is equivalent to print(inv(m2.T @ m1))\n",
        "print((m2.t()).mm(m1)) # We can also use the mm() method to do matrix multiplications"
      ],
      "metadata": {
        "colab": {
          "base_uri": "https://localhost:8080/"
        },
        "id": "WTVv37ZC5I0z",
        "outputId": "9739f10f-e548-4073-cf55-eb366309ade5"
      },
      "execution_count": null,
      "outputs": [
        {
          "output_type": "stream",
          "name": "stdout",
          "text": [
            "tensor([[-1.2991, -0.6139,  2.6980],\n",
            "        [-2.8283,  0.9887,  0.7615],\n",
            "        [ 0.3126,  2.2367,  0.5946]])\n",
            "tensor([[ 0.0633, -0.3630,  0.1778],\n",
            "        [-0.1089,  0.0916,  0.3767],\n",
            "        [ 0.3763, -0.1539,  0.1713]])\n",
            "tensor([[-1.2991, -0.6139,  2.6980],\n",
            "        [-2.8283,  0.9887,  0.7615],\n",
            "        [ 0.3126,  2.2367,  0.5946]])\n"
          ]
        }
      ]
    },
    {
      "cell_type": "markdown",
      "source": [
        "You can use standard NumPy-like indexing with all bells and whistles!"
      ],
      "metadata": {
        "id": "dbidvp8l5nt1"
      }
    },
    {
      "cell_type": "code",
      "source": [
        "print(x)\n",
        "print(x.size())\n",
        "print(x[0]) # 1st row\n",
        "print(x[:, 0]) # 1st column\n",
        "print(x[..., -1]) # last column\n",
        "print(x[1, 2])\n",
        "print(x[1][2])"
      ],
      "metadata": {
        "colab": {
          "base_uri": "https://localhost:8080/"
        },
        "id": "J_DndvTe5gqz",
        "outputId": "7217eccc-70f3-42e7-b04a-d3379baea9b3"
      },
      "execution_count": null,
      "outputs": [
        {
          "output_type": "stream",
          "name": "stdout",
          "text": [
            "tensor([[1., 1., 1.],\n",
            "        [1., 1., 1.],\n",
            "        [1., 1., 1.],\n",
            "        [1., 1., 1.],\n",
            "        [1., 1., 1.]])\n",
            "torch.Size([5, 3])\n",
            "tensor([1., 1., 1.])\n",
            "tensor([1., 1., 1., 1., 1.])\n",
            "tensor([1., 1., 1., 1., 1.])\n",
            "tensor(1.)\n",
            "tensor(1.)\n"
          ]
        }
      ]
    },
    {
      "cell_type": "markdown",
      "source": [
        "### 3. Resizing: If you want to resize/reshape tensor, you can use `torch.view`:"
      ],
      "metadata": {
        "id": "N8cr63MU5wA1"
      }
    },
    {
      "cell_type": "code",
      "source": [
        "x = torch.randn(4, 4)\n",
        "y = x.view(16)\n",
        "z = x.view(-1, 8)  # the size -1 is inferred from other dimensions\n",
        "print(x.size(), y.size(), z.size())"
      ],
      "metadata": {
        "colab": {
          "base_uri": "https://localhost:8080/"
        },
        "id": "ByDoaW8j5qjs",
        "outputId": "8c390777-6453-420d-a76d-01a60f7669e2"
      },
      "execution_count": null,
      "outputs": [
        {
          "output_type": "stream",
          "name": "stdout",
          "text": [
            "torch.Size([4, 4]) torch.Size([16]) torch.Size([2, 8])\n"
          ]
        }
      ]
    },
    {
      "cell_type": "markdown",
      "source": [
        "### 4. If you have a one element tensor, use `.item()` to get the value as a Python number"
      ],
      "metadata": {
        "id": "Tor44BiY548j"
      }
    },
    {
      "cell_type": "code",
      "source": [
        "x = torch.randn(1)\n",
        "print(x)\n",
        "print(x.item())\n",
        "# temp = torch.rand(5, 3)\n",
        "# print(temp)\n",
        "# print(temp.item()) -> Throws this error : ValueError: only one element tensors can be converted to Python scalars"
      ],
      "metadata": {
        "colab": {
          "base_uri": "https://localhost:8080/"
        },
        "id": "OjvD6K8050eV",
        "outputId": "dd3fbe35-57b3-4e6c-ef83-79730e16c6f6"
      },
      "execution_count": null,
      "outputs": [
        {
          "output_type": "stream",
          "name": "stdout",
          "text": [
            "tensor([-0.6753])\n",
            "-0.6752625107765198\n"
          ]
        }
      ]
    },
    {
      "cell_type": "markdown",
      "source": [
        "**Check out Later:** 100+ Tensor operations, including transposing, indexing, slicing, mathematical operations, linear algebra, random numbers, etc., are described [here](https://pytorch.org/docs/torch).\n",
        "\n",
        "Some important ones which are definitely worth checking out are `squeeze()`, `unsqueeze()`, `max()`, `clamp()`, `cat()`, `stack()`.\n",
        "\n",
        "Each of these operations can be run on the GPU (at typically higher speeds than on a CPU). If you’re using Colab, allocate a GPU by going to Runtime > Change runtime type > GPU.\n",
        "\n",
        "By default, tensors are created on the CPU. We need to explicitly move tensors to the GPU using `.to` method (after checking for GPU availability). Keep in mind that copying large tensors across devices can be expensive in terms of time and memory!"
      ],
      "metadata": {
        "id": "8DCrobo86BUH"
      }
    },
    {
      "cell_type": "markdown",
      "source": [
        "### 5. Moving Tensor to GPU."
      ],
      "metadata": {
        "id": "9qTmuIPn6HDU"
      }
    },
    {
      "cell_type": "code",
      "source": [
        "tensor = torch.rand(3,4)\n",
        "\n",
        "if torch.cuda.is_available():\n",
        "    tensor = tensor.to(\"cuda\")"
      ],
      "metadata": {
        "id": "VanBdkE457Lb"
      },
      "execution_count": null,
      "outputs": []
    },
    {
      "cell_type": "code",
      "source": [
        "# A neater way of doing it\n",
        "device = torch.device(\"cuda:0\" if torch.cuda.is_available() else \"cpu\")\n",
        "print(torch.zeros(2, 2).to(device))"
      ],
      "metadata": {
        "colab": {
          "base_uri": "https://localhost:8080/"
        },
        "id": "rP1MgR858G8Y",
        "outputId": "fcdcf990-5f1d-48b4-9dcb-56466d77b058"
      },
      "execution_count": null,
      "outputs": [
        {
          "output_type": "stream",
          "name": "stdout",
          "text": [
            "tensor([[0., 0.],\n",
            "        [0., 0.]])\n"
          ]
        }
      ]
    },
    {
      "cell_type": "markdown",
      "source": [
        "**NOTE:** `dim` in PyTorch is similar to `axis` in NumPy."
      ],
      "metadata": {
        "id": "dr9f8JNp6bI4"
      }
    },
    {
      "cell_type": "markdown",
      "source": [
        "### 6. Converting a Torch Tensor to a NumPy Array and vice-versa"
      ],
      "metadata": {
        "id": "4loFqCkm6_t0"
      }
    },
    {
      "cell_type": "code",
      "source": [
        "a = torch.ones(5)\n",
        "print(a)\n",
        "print(a.size())\n",
        "\n",
        "b = a.numpy()\n",
        "print(b)\n",
        "\n",
        "# Notice how the numpy array's value change\n",
        "a.add_(1)\n",
        "print(a)\n",
        "print(b)"
      ],
      "metadata": {
        "colab": {
          "base_uri": "https://localhost:8080/"
        },
        "id": "eNPE9HpJ6S5C",
        "outputId": "623bcf6f-da4f-4aa2-af7c-654e3a7b77b7"
      },
      "execution_count": null,
      "outputs": [
        {
          "output_type": "stream",
          "name": "stdout",
          "text": [
            "tensor([1., 1., 1., 1., 1.])\n",
            "torch.Size([5])\n",
            "[1. 1. 1. 1. 1.]\n",
            "tensor([2., 2., 2., 2., 2.])\n",
            "[2. 2. 2. 2. 2.]\n"
          ]
        }
      ]
    },
    {
      "cell_type": "code",
      "source": [
        "# Converting NumPy Array to Torch Tensor\n",
        "\n",
        "a = np.ones(5)\n",
        "b = torch.from_numpy(a)\n",
        "np.add(a, 1, out=a)\n",
        "print(a)\n",
        "print(b)"
      ],
      "metadata": {
        "colab": {
          "base_uri": "https://localhost:8080/"
        },
        "id": "43QFSEdq7WYc",
        "outputId": "fac5cfe3-3ba4-4c13-8eda-6c558a2964f3"
      },
      "execution_count": null,
      "outputs": [
        {
          "output_type": "stream",
          "name": "stdout",
          "text": [
            "[2. 2. 2. 2. 2.]\n",
            "tensor([2., 2., 2., 2., 2.], dtype=torch.float64)\n"
          ]
        }
      ]
    },
    {
      "cell_type": "markdown",
      "source": [
        "With this the Part 1 of this notebook is completed.\n",
        "\n",
        "---\n",
        "\n"
      ],
      "metadata": {
        "id": "AG3pWKTY7vU6"
      }
    },
    {
      "cell_type": "markdown",
      "source": [
        "# Part 2: AUTOGRAD: Automatic Differentiation\n",
        "\n",
        "The PyTorch's `autograd` package provides automatic differentiation for all operations on Tensors. It is a define-by-run framework, which means that your backprop is defined by how your code is run, and that every single iteration can be different."
      ],
      "metadata": {
        "id": "wUWU9LgL8PH6"
      }
    },
    {
      "cell_type": "markdown",
      "source": [
        "### Some Background\n",
        "\n",
        "We had seen three important attributes of a tensor before: (recall them)\n",
        "\n",
        "The two more important attributes are the `.requires_grad` and `.grad` attribute.\n",
        "\n",
        "`torch.Tensor` is the central class of the package. If you set its attribute `.requires_grad` as `True`, it starts to track all operations on it. When you finish your computation you can call `.backward()` and have all the gradients computed automatically. The gradient for this tensor will be accumulated into `.grad` attribute.\n",
        "\n",
        "To stop a tensor from tracking history, you can call `.detach()` to detach it from the computation history, and to prevent future computation from being tracked.\n",
        "\n",
        "To prevent tracking history (and using memory), you can also wrap the code block in `with torch.no_grad():`. This can be particularly helpful when evaluating a model because the model may have trainable parameters with `requires_grad=True`, but for which we don’t need the gradients.\n",
        "\n",
        "There’s one more class which is very important for autograd implementation - a `Function`.\n",
        "\n",
        "`Tensor` and `Function` are interconnected and build up an acyclic graph, that encodes a complete history of computation. Each tensor has a `.grad_fn` attribute that references a `Function` that has created the `Tensor` (except for Tensors created by the user - their `grad_fn is None`).\n",
        "\n",
        "If you want to compute the derivatives, you can call `.backward()` on a `Tensor`. If `Tensor` is a scalar (i.e. it holds one element data), you don’t need to specify any arguments to `backward()`, however if it has more elements, you need to specify a `gradient` argument that is a tensor of matching shape."
      ],
      "metadata": {
        "id": "l5U-TYRi8eGI"
      }
    },
    {
      "cell_type": "code",
      "source": [
        "x = torch.ones(2, 2, requires_grad = True)\n",
        "print(x.requires_grad)\n",
        "x.requires_grad_() # This sets the requires_grad attribute to True for the tensor test in place.\n",
        "print(x.requires_grad)"
      ],
      "metadata": {
        "colab": {
          "base_uri": "https://localhost:8080/"
        },
        "id": "jUTXHeJ87RlG",
        "outputId": "0634ad66-6de9-4b04-dff2-910452104821"
      },
      "execution_count": null,
      "outputs": [
        {
          "output_type": "stream",
          "name": "stdout",
          "text": [
            "True\n",
            "True\n"
          ]
        }
      ]
    },
    {
      "cell_type": "code",
      "source": [
        "# We can set the requires_grad attribute directly during the initialization itself\n",
        "\n",
        "x = torch.ones(2, 2, requires_grad = True)\n",
        "print(x)\n",
        "print(x.requires_grad)"
      ],
      "metadata": {
        "colab": {
          "base_uri": "https://localhost:8080/"
        },
        "id": "qsrid-0M9Py6",
        "outputId": "50a9990e-4054-4e2f-e7f6-1fcbd021a7c8"
      },
      "execution_count": null,
      "outputs": [
        {
          "output_type": "stream",
          "name": "stdout",
          "text": [
            "tensor([[1., 1.],\n",
            "        [1., 1.]], requires_grad=True)\n",
            "True\n"
          ]
        }
      ]
    },
    {
      "cell_type": "markdown",
      "source": [
        "Lets do a tensor operation on `x`:"
      ],
      "metadata": {
        "id": "hFIXPf2y9tEW"
      }
    },
    {
      "cell_type": "code",
      "source": [
        "y = x + 2\n",
        "print(y)\n",
        "print(y.requires_grad)"
      ],
      "metadata": {
        "colab": {
          "base_uri": "https://localhost:8080/"
        },
        "id": "CzUsYJ1-9dZO",
        "outputId": "3739810d-25b6-4cef-e892-3bc7c4d27438"
      },
      "execution_count": null,
      "outputs": [
        {
          "output_type": "stream",
          "name": "stdout",
          "text": [
            "tensor([[3., 3.],\n",
            "        [3., 3.]], grad_fn=<AddBackward0>)\n",
            "True\n"
          ]
        }
      ]
    },
    {
      "cell_type": "markdown",
      "source": [
        "Notice that even though we didn't explicitly set the `requires_grad` attribute of `y` to `True` it automatically sets since it is a resultant Tensor from another Tensor whose `requires_grad` is `True`. This means the PyTorch tracks all the operations of a Tensor once you set the `requires_grad` to `True`.\n",
        "\n",
        "One other important attribute is `grad_fn`. It stores the operation which lead to its creation. Notice how PyTorch creates a chain of operations through this `grad_fn`."
      ],
      "metadata": {
        "id": "NMoaPeCi957c"
      }
    },
    {
      "cell_type": "code",
      "source": [
        "print(y.grad_fn)"
      ],
      "metadata": {
        "colab": {
          "base_uri": "https://localhost:8080/"
        },
        "id": "77BKYDJ293NS",
        "outputId": "9a9d7dc5-0eb2-47cd-fc58-b93b0ca92140"
      },
      "execution_count": null,
      "outputs": [
        {
          "output_type": "stream",
          "name": "stdout",
          "text": [
            "<AddBackward0 object at 0x7f68d48cd690>\n"
          ]
        }
      ]
    },
    {
      "cell_type": "markdown",
      "source": [
        "Let's do more operations on `y`"
      ],
      "metadata": {
        "id": "Ap-iNQ1D-w7W"
      }
    },
    {
      "cell_type": "code",
      "source": [
        "z = y * y * 3\n",
        "print(z.grad_fn)\n",
        "print(z.grad_fn.next_functions[0][0].next_functions[0][0])\n",
        "out = z.mean()\n",
        "\n",
        "print(z, out)\n",
        "\n",
        "print(y.requires_grad)\n",
        "print(z.requires_grad)\n",
        "print(out.requires_grad)\n",
        "# Notice that although we did not explicitly set the requires_grad attribute to\n",
        "# \"True\" for the Tensors y, z and out, it is automatically set to True."
      ],
      "metadata": {
        "colab": {
          "base_uri": "https://localhost:8080/"
        },
        "id": "RXVl3-_S-sBg",
        "outputId": "292d8273-cdde-43a1-b2c2-362021ce2e82"
      },
      "execution_count": null,
      "outputs": [
        {
          "output_type": "stream",
          "name": "stdout",
          "text": [
            "<MulBackward0 object at 0x7f68d48cebc0>\n",
            "<AddBackward0 object at 0x7f68d48cf5e0>\n",
            "tensor([[27., 27.],\n",
            "        [27., 27.]], grad_fn=<MulBackward0>) tensor(27., grad_fn=<MeanBackward0>)\n",
            "True\n",
            "True\n",
            "True\n"
          ]
        }
      ]
    },
    {
      "cell_type": "markdown",
      "source": [
        "### Gradients\n",
        "\n",
        "Let’s backprop now. You can access the gradients of a Tensor (if it exists) using the `.grad` attribute."
      ],
      "metadata": {
        "id": "MhbGceaTAxiU"
      }
    },
    {
      "cell_type": "code",
      "source": [
        "print(x.grad) # We haven't backpropagated yet. Hence, its None."
      ],
      "metadata": {
        "colab": {
          "base_uri": "https://localhost:8080/"
        },
        "id": "AKDZA3fS_A_H",
        "outputId": "97d47baf-0f89-41fa-f936-cf4a727f9591"
      },
      "execution_count": null,
      "outputs": [
        {
          "output_type": "stream",
          "name": "stdout",
          "text": [
            "None\n"
          ]
        }
      ]
    },
    {
      "cell_type": "code",
      "source": [
        "# Backpropagating in PyTorch is as simple as calling the\n",
        "# `.backward()` method\n",
        "\n",
        "out.backward()"
      ],
      "metadata": {
        "id": "PB84IcnUBFJe"
      },
      "execution_count": null,
      "outputs": []
    },
    {
      "cell_type": "markdown",
      "source": [
        "This will do the `d(out)/dx` operation and stores the resulting the gradient in the `.grad` attribute of `x`"
      ],
      "metadata": {
        "id": "2paRBdXPBP_3"
      }
    },
    {
      "cell_type": "code",
      "source": [
        "print(x.grad)"
      ],
      "metadata": {
        "colab": {
          "base_uri": "https://localhost:8080/"
        },
        "id": "E9r1FdhXBPb6",
        "outputId": "be402685-d924-4c9b-f48e-12d5ee64d20b"
      },
      "execution_count": null,
      "outputs": [
        {
          "output_type": "stream",
          "name": "stdout",
          "text": [
            "tensor([[4.5000, 4.5000],\n",
            "        [4.5000, 4.5000]])\n"
          ]
        }
      ]
    },
    {
      "cell_type": "markdown",
      "source": [
        "The result obtained can be verified as follows :\n",
        "\n",
        "![forward_prop](https://drive.google.com/uc?id=1Q0AiOmNZNlFTULPNswk-csiCAZe-CoK9)\n",
        "\n",
        "![backprop](https://drive.google.com/uc?id=1z1ynWdNc1FwAVhf565kaX39OIbV-Qmsi)"
      ],
      "metadata": {
        "id": "XvTToxg9D1J6"
      }
    },
    {
      "cell_type": "code",
      "source": [
        "# You can zero the gradient buffer as follows:\n",
        "x.grad.data.zero_()\n",
        "print(x.grad)"
      ],
      "metadata": {
        "colab": {
          "base_uri": "https://localhost:8080/"
        },
        "id": "4_rFNBoBBg-y",
        "outputId": "25822005-b203-4d0c-be72-4a0f40dd2b72"
      },
      "execution_count": null,
      "outputs": [
        {
          "output_type": "stream",
          "name": "stdout",
          "text": [
            "tensor([[0., 0.],\n",
            "        [0., 0.]])\n"
          ]
        }
      ]
    },
    {
      "cell_type": "markdown",
      "source": [
        "You can also stop autograd from tracking history on Tensors with `.requires_grad=True` either by wrapping the code block in `with torch.no_grad():`"
      ],
      "metadata": {
        "id": "ip43cWTmERLP"
      }
    },
    {
      "cell_type": "code",
      "source": [
        "print(x.requires_grad) # True\n",
        "print((x ** 2).requires_grad) # True\n",
        "\n",
        "with torch.no_grad():\n",
        "    print(x.requires_grad) # True\n",
        "    print((x ** 2).requires_grad) # False"
      ],
      "metadata": {
        "colab": {
          "base_uri": "https://localhost:8080/"
        },
        "id": "AXVj9HBBByUY",
        "outputId": "004f47d7-800b-4670-e66a-4207754e4d5d"
      },
      "execution_count": null,
      "outputs": [
        {
          "output_type": "stream",
          "name": "stdout",
          "text": [
            "True\n",
            "True\n",
            "True\n",
            "False\n"
          ]
        }
      ]
    },
    {
      "cell_type": "markdown",
      "source": [
        "Or by using `.detach()` to get a new Tensor with the same content but that does not require gradients:"
      ],
      "metadata": {
        "id": "0LecL1h3Ebzl"
      }
    },
    {
      "cell_type": "code",
      "source": [
        "print(x.requires_grad)\n",
        "y = x.detach()\n",
        "print(y.requires_grad)\n",
        "print(x.requires_grad)\n",
        "print(x.eq(y).all())"
      ],
      "metadata": {
        "colab": {
          "base_uri": "https://localhost:8080/"
        },
        "id": "yYV4cAbPETos",
        "outputId": "02b3531f-be3c-4a20-917a-00327372e919"
      },
      "execution_count": null,
      "outputs": [
        {
          "output_type": "stream",
          "name": "stdout",
          "text": [
            "True\n",
            "False\n",
            "True\n",
            "tensor(True)\n"
          ]
        }
      ]
    },
    {
      "cell_type": "markdown",
      "source": [
        "**Check out Later:**\n",
        "\n",
        "Documentation of `autograd.Function` can be found at https://pytorch.org/docs/stable/autograd.html#function"
      ],
      "metadata": {
        "id": "R_DlFNFfEh5E"
      }
    },
    {
      "cell_type": "markdown",
      "source": [
        "This concludes the first session on PyTorch.\n",
        "\n",
        "Thank you!"
      ],
      "metadata": {
        "id": "AWZuuC9gEn1n"
      }
    },
    {
      "cell_type": "markdown",
      "source": [
        "# References\n",
        "\n",
        "1. [Deep Learning with PyTorch: A 60 minute blitz, Soumith Chintala](https://pytorch.org/tutorials/beginner/deep_learning_60min_blitz.html)\n",
        "\n",
        "2. [Automatic Differentiation Package - TORCH.AUTOGRAD](https://pytorch.org/docs/stable/autograd.html)\n",
        "\n",
        "3. [TORCH](https://pytorch.org/docs/stable/torch.html)\n",
        "\n",
        "4. [Stefan Otte: Deep Neural Networks with PyTorch | PyData Berlin 2018](https://www.youtube.com/watch?v=_H3aw6wkCv0&t=821s)\n",
        "\n",
        "5. [CS231n: Convolutional Neural Networks for Visual Recognition](http://cs231n.stanford.edu/)\n",
        "\n",
        "6. [Tensor Attributes](https://pytorch.org/docs/stable/tensor_attributes.html)\n",
        "\n",
        "7. [`torch.Tensor`](https://pytorch.org/docs/stable/tensors.html#torch.Tensor)"
      ],
      "metadata": {
        "id": "Csr9VS3gEl81"
      }
    }
  ]
}